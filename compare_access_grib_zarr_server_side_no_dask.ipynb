{
 "cells": [
  {
   "cell_type": "code",
   "execution_count": 1,
   "id": "e8955437-14b0-415a-9bd4-2513662e9989",
   "metadata": {},
   "outputs": [],
   "source": [
    "import xarray as xr\n",
    "import numpy as np\n",
    "import matplotlib.pylab as plt\n",
    "import matplotlib.cm as cm\n",
    "import cmocean.cm as cmo\n",
    "import cartopy.crs as ccrs\n",
    "import cartopy.feature as cf\n",
    "from scipy.interpolate import CloughTocher2DInterpolator, LinearNDInterpolator, NearestNDInterpolator\n",
    "import gribscan\n",
    "import intake\n",
    "import eccodes\n",
    "import healpy as hp"
   ]
  },
  {
   "cell_type": "markdown",
   "id": "13e560fb-2f0f-4cdf-9636-c029702b1fd5",
   "metadata": {},
   "source": [
    "Open the catalog with nextGEMS data"
   ]
  },
  {
   "cell_type": "code",
   "execution_count": 2,
   "id": "018792a0-1432-460b-a3b7-3ecd8a05b598",
   "metadata": {},
   "outputs": [],
   "source": [
    "cat = intake.open_catalog(\"https://data.nextgems-h2020.eu/catalog.yaml\")"
   ]
  },
  {
   "cell_type": "code",
   "execution_count": 3,
   "id": "6a23358a-102d-4221-9cfb-ace1d68baaa3",
   "metadata": {},
   "outputs": [
    {
     "name": "stderr",
     "output_type": "stream",
     "text": [
      "/fastdata/bm1235/python_environments/hamburg-hackathon/lib/python3.10/site-packages/xarray/core/utils.py:494: FutureWarning: The return type of `Dataset.dims` will be changed to return a set of dimension names in future, in order to be more consistent with `DataArray.dims`. To access a mapping from dimension names to lengths, please use `Dataset.sizes`.\n",
      "  warnings.warn(\n"
     ]
    }
   ],
   "source": [
    "data_ifs = cat.IFS['IFS_9-FESOM_5-production']['2D_hourly_healpix512'].to_dask() "
   ]
  },
  {
   "cell_type": "code",
   "execution_count": 4,
   "id": "aa613573-5f68-4d88-8ab8-f7eeaff1ac41",
   "metadata": {},
   "outputs": [
    {
     "name": "stderr",
     "output_type": "stream",
     "text": [
      "/fastdata/bm1235/python_environments/hamburg-hackathon/lib/python3.10/site-packages/xarray/core/utils.py:494: FutureWarning: The return type of `Dataset.dims` will be changed to return a set of dimension names in future, in order to be more consistent with `DataArray.dims`. To access a mapping from dimension names to lengths, please use `Dataset.sizes`.\n",
      "  warnings.warn(\n"
     ]
    }
   ],
   "source": [
    "data_icon = cat.ICON['ngc4008'](time=\"PT3H\", zoom=9).to_dask()"
   ]
  },
  {
   "cell_type": "code",
   "execution_count": 5,
   "id": "cb303861-c950-49b0-aacb-7dd10a89c21d",
   "metadata": {},
   "outputs": [
    {
     "name": "stderr",
     "output_type": "stream",
     "text": [
      "/fastdata/bm1235/python_environments/hamburg-hackathon/lib/python3.10/site-packages/xarray/core/utils.py:494: FutureWarning: The return type of `Dataset.dims` will be changed to return a set of dimension names in future, in order to be more consistent with `DataArray.dims`. To access a mapping from dimension names to lengths, please use `Dataset.sizes`.\n",
      "  warnings.warn(\n"
     ]
    }
   ],
   "source": [
    "data_ifs_oce = cat.IFS['IFS_9-FESOM_5-production']['2D_daily_healpix512_ocean'].to_dask() "
   ]
  },
  {
   "cell_type": "code",
   "execution_count": 6,
   "id": "d0fc66e7-dea8-4e7f-9424-cc82ac7f6dad",
   "metadata": {},
   "outputs": [
    {
     "name": "stderr",
     "output_type": "stream",
     "text": [
      "/fastdata/bm1235/python_environments/hamburg-hackathon/lib/python3.10/site-packages/xarray/core/utils.py:494: FutureWarning: The return type of `Dataset.dims` will be changed to return a set of dimension names in future, in order to be more consistent with `DataArray.dims`. To access a mapping from dimension names to lengths, please use `Dataset.sizes`.\n",
      "  warnings.warn(\n"
     ]
    }
   ],
   "source": [
    "data_ifs_oce_3d = cat.IFS['IFS_9-FESOM_5-production']['3D_daily_healpix512_ocean'].to_dask() "
   ]
  },
  {
   "cell_type": "code",
   "execution_count": 7,
   "id": "750d2633-bad9-436d-b5c1-cc9ed31cd9e1",
   "metadata": {},
   "outputs": [
    {
     "name": "stderr",
     "output_type": "stream",
     "text": [
      "/fastdata/bm1235/python_environments/hamburg-hackathon/lib/python3.10/site-packages/xarray/core/utils.py:494: FutureWarning: The return type of `Dataset.dims` will be changed to return a set of dimension names in future, in order to be more consistent with `DataArray.dims`. To access a mapping from dimension names to lengths, please use `Dataset.sizes`.\n",
      "  warnings.warn(\n"
     ]
    }
   ],
   "source": [
    "data_icon_oce = cat.ICON['ngc4008'](time=\"P1D\", zoom=9).to_dask()"
   ]
  },
  {
   "cell_type": "markdown",
   "id": "775ba7b0-e01e-4dae-adc5-8f251027eabc",
   "metadata": {},
   "source": [
    "## One point data"
   ]
  },
  {
   "cell_type": "code",
   "execution_count": 8,
   "id": "e0b11ca6-9315-4b4b-9ded-fcd146905bf6",
   "metadata": {},
   "outputs": [],
   "source": [
    "data_example = data_ifs['2t'][-1,:]"
   ]
  },
  {
   "cell_type": "markdown",
   "id": "d73eb68e-9e10-4f3a-adeb-6b6841d82396",
   "metadata": {},
   "source": [
    "The length is 3145728, so it's zoom level 9"
   ]
  },
  {
   "cell_type": "code",
   "execution_count": 9,
   "id": "31fffb0f-c930-44d0-a347-ceff8dfbcc31",
   "metadata": {},
   "outputs": [
    {
     "data": {
      "text/plain": [
       "3145728"
      ]
     },
     "execution_count": 9,
     "metadata": {},
     "output_type": "execute_result"
    }
   ],
   "source": [
    "len(data_example)"
   ]
  },
  {
   "cell_type": "markdown",
   "id": "fa96ae78-2063-48db-b289-5faddf4303d7",
   "metadata": {},
   "source": [
    "We start by selecting data for the point. We can find index in healpix mesh, that is closest to our point. It will be the same for both models:"
   ]
  },
  {
   "cell_type": "code",
   "execution_count": 10,
   "id": "8fbd8833-cb22-4ba5-ae55-2be8c34d9ca4",
   "metadata": {},
   "outputs": [],
   "source": [
    "pix = hp.ang2pix(\n",
    "        hp.npix2nside(len(data_example)), theta=9.98737477, phi=49.70353785, nest=True, lonlat=True\n",
    "    )"
   ]
  },
  {
   "cell_type": "code",
   "execution_count": 11,
   "id": "91c62b62-5a21-456e-a66d-a6c9be279603",
   "metadata": {},
   "outputs": [
    {
     "data": {
      "text/plain": [
       "178005"
      ]
     },
     "execution_count": 11,
     "metadata": {},
     "output_type": "execute_result"
    }
   ],
   "source": [
    "pix"
   ]
  },
  {
   "cell_type": "code",
   "execution_count": 12,
   "id": "1527149a-7314-4927-bcee-ec4694fb516d",
   "metadata": {},
   "outputs": [
    {
     "name": "stdout",
     "output_type": "stream",
     "text": [
      "CPU times: user 9min 20s, sys: 1min 41s, total: 11min 1s\n",
      "Wall time: 25.3 s\n"
     ]
    }
   ],
   "source": [
    "%%time\n",
    "point_data = data_ifs['2t'].sel(time='2030')[:,pix].compute()"
   ]
  },
  {
   "cell_type": "markdown",
   "id": "d27a50fb-f513-44f1-8478-b5ee397b612c",
   "metadata": {},
   "source": [
    "We select the same number of time steps (8 time steps more actually :))"
   ]
  },
  {
   "cell_type": "code",
   "execution_count": 13,
   "id": "672962cf-b621-4f9f-b0a7-1a3603117fdb",
   "metadata": {},
   "outputs": [
    {
     "data": {
      "text/html": [
       "<div><svg style=\"position: absolute; width: 0; height: 0; overflow: hidden\">\n",
       "<defs>\n",
       "<symbol id=\"icon-database\" viewBox=\"0 0 32 32\">\n",
       "<path d=\"M16 0c-8.837 0-16 2.239-16 5v4c0 2.761 7.163 5 16 5s16-2.239 16-5v-4c0-2.761-7.163-5-16-5z\"></path>\n",
       "<path d=\"M16 17c-8.837 0-16-2.239-16-5v6c0 2.761 7.163 5 16 5s16-2.239 16-5v-6c0 2.761-7.163 5-16 5z\"></path>\n",
       "<path d=\"M16 26c-8.837 0-16-2.239-16-5v6c0 2.761 7.163 5 16 5s16-2.239 16-5v-6c0 2.761-7.163 5-16 5z\"></path>\n",
       "</symbol>\n",
       "<symbol id=\"icon-file-text2\" viewBox=\"0 0 32 32\">\n",
       "<path d=\"M28.681 7.159c-0.694-0.947-1.662-2.053-2.724-3.116s-2.169-2.030-3.116-2.724c-1.612-1.182-2.393-1.319-2.841-1.319h-15.5c-1.378 0-2.5 1.121-2.5 2.5v27c0 1.378 1.122 2.5 2.5 2.5h23c1.378 0 2.5-1.122 2.5-2.5v-19.5c0-0.448-0.137-1.23-1.319-2.841zM24.543 5.457c0.959 0.959 1.712 1.825 2.268 2.543h-4.811v-4.811c0.718 0.556 1.584 1.309 2.543 2.268zM28 29.5c0 0.271-0.229 0.5-0.5 0.5h-23c-0.271 0-0.5-0.229-0.5-0.5v-27c0-0.271 0.229-0.5 0.5-0.5 0 0 15.499-0 15.5 0v7c0 0.552 0.448 1 1 1h7v19.5z\"></path>\n",
       "<path d=\"M23 26h-14c-0.552 0-1-0.448-1-1s0.448-1 1-1h14c0.552 0 1 0.448 1 1s-0.448 1-1 1z\"></path>\n",
       "<path d=\"M23 22h-14c-0.552 0-1-0.448-1-1s0.448-1 1-1h14c0.552 0 1 0.448 1 1s-0.448 1-1 1z\"></path>\n",
       "<path d=\"M23 18h-14c-0.552 0-1-0.448-1-1s0.448-1 1-1h14c0.552 0 1 0.448 1 1s-0.448 1-1 1z\"></path>\n",
       "</symbol>\n",
       "</defs>\n",
       "</svg>\n",
       "<style>/* CSS stylesheet for displaying xarray objects in jupyterlab.\n",
       " *\n",
       " */\n",
       "\n",
       ":root {\n",
       "  --xr-font-color0: var(--jp-content-font-color0, rgba(0, 0, 0, 1));\n",
       "  --xr-font-color2: var(--jp-content-font-color2, rgba(0, 0, 0, 0.54));\n",
       "  --xr-font-color3: var(--jp-content-font-color3, rgba(0, 0, 0, 0.38));\n",
       "  --xr-border-color: var(--jp-border-color2, #e0e0e0);\n",
       "  --xr-disabled-color: var(--jp-layout-color3, #bdbdbd);\n",
       "  --xr-background-color: var(--jp-layout-color0, white);\n",
       "  --xr-background-color-row-even: var(--jp-layout-color1, white);\n",
       "  --xr-background-color-row-odd: var(--jp-layout-color2, #eeeeee);\n",
       "}\n",
       "\n",
       "html[theme=dark],\n",
       "body[data-theme=dark],\n",
       "body.vscode-dark {\n",
       "  --xr-font-color0: rgba(255, 255, 255, 1);\n",
       "  --xr-font-color2: rgba(255, 255, 255, 0.54);\n",
       "  --xr-font-color3: rgba(255, 255, 255, 0.38);\n",
       "  --xr-border-color: #1F1F1F;\n",
       "  --xr-disabled-color: #515151;\n",
       "  --xr-background-color: #111111;\n",
       "  --xr-background-color-row-even: #111111;\n",
       "  --xr-background-color-row-odd: #313131;\n",
       "}\n",
       "\n",
       ".xr-wrap {\n",
       "  display: block !important;\n",
       "  min-width: 300px;\n",
       "  max-width: 700px;\n",
       "}\n",
       "\n",
       ".xr-text-repr-fallback {\n",
       "  /* fallback to plain text repr when CSS is not injected (untrusted notebook) */\n",
       "  display: none;\n",
       "}\n",
       "\n",
       ".xr-header {\n",
       "  padding-top: 6px;\n",
       "  padding-bottom: 6px;\n",
       "  margin-bottom: 4px;\n",
       "  border-bottom: solid 1px var(--xr-border-color);\n",
       "}\n",
       "\n",
       ".xr-header > div,\n",
       ".xr-header > ul {\n",
       "  display: inline;\n",
       "  margin-top: 0;\n",
       "  margin-bottom: 0;\n",
       "}\n",
       "\n",
       ".xr-obj-type,\n",
       ".xr-array-name {\n",
       "  margin-left: 2px;\n",
       "  margin-right: 10px;\n",
       "}\n",
       "\n",
       ".xr-obj-type {\n",
       "  color: var(--xr-font-color2);\n",
       "}\n",
       "\n",
       ".xr-sections {\n",
       "  padding-left: 0 !important;\n",
       "  display: grid;\n",
       "  grid-template-columns: 150px auto auto 1fr 20px 20px;\n",
       "}\n",
       "\n",
       ".xr-section-item {\n",
       "  display: contents;\n",
       "}\n",
       "\n",
       ".xr-section-item input {\n",
       "  display: none;\n",
       "}\n",
       "\n",
       ".xr-section-item input + label {\n",
       "  color: var(--xr-disabled-color);\n",
       "}\n",
       "\n",
       ".xr-section-item input:enabled + label {\n",
       "  cursor: pointer;\n",
       "  color: var(--xr-font-color2);\n",
       "}\n",
       "\n",
       ".xr-section-item input:enabled + label:hover {\n",
       "  color: var(--xr-font-color0);\n",
       "}\n",
       "\n",
       ".xr-section-summary {\n",
       "  grid-column: 1;\n",
       "  color: var(--xr-font-color2);\n",
       "  font-weight: 500;\n",
       "}\n",
       "\n",
       ".xr-section-summary > span {\n",
       "  display: inline-block;\n",
       "  padding-left: 0.5em;\n",
       "}\n",
       "\n",
       ".xr-section-summary-in:disabled + label {\n",
       "  color: var(--xr-font-color2);\n",
       "}\n",
       "\n",
       ".xr-section-summary-in + label:before {\n",
       "  display: inline-block;\n",
       "  content: '►';\n",
       "  font-size: 11px;\n",
       "  width: 15px;\n",
       "  text-align: center;\n",
       "}\n",
       "\n",
       ".xr-section-summary-in:disabled + label:before {\n",
       "  color: var(--xr-disabled-color);\n",
       "}\n",
       "\n",
       ".xr-section-summary-in:checked + label:before {\n",
       "  content: '▼';\n",
       "}\n",
       "\n",
       ".xr-section-summary-in:checked + label > span {\n",
       "  display: none;\n",
       "}\n",
       "\n",
       ".xr-section-summary,\n",
       ".xr-section-inline-details {\n",
       "  padding-top: 4px;\n",
       "  padding-bottom: 4px;\n",
       "}\n",
       "\n",
       ".xr-section-inline-details {\n",
       "  grid-column: 2 / -1;\n",
       "}\n",
       "\n",
       ".xr-section-details {\n",
       "  display: none;\n",
       "  grid-column: 1 / -1;\n",
       "  margin-bottom: 5px;\n",
       "}\n",
       "\n",
       ".xr-section-summary-in:checked ~ .xr-section-details {\n",
       "  display: contents;\n",
       "}\n",
       "\n",
       ".xr-array-wrap {\n",
       "  grid-column: 1 / -1;\n",
       "  display: grid;\n",
       "  grid-template-columns: 20px auto;\n",
       "}\n",
       "\n",
       ".xr-array-wrap > label {\n",
       "  grid-column: 1;\n",
       "  vertical-align: top;\n",
       "}\n",
       "\n",
       ".xr-preview {\n",
       "  color: var(--xr-font-color3);\n",
       "}\n",
       "\n",
       ".xr-array-preview,\n",
       ".xr-array-data {\n",
       "  padding: 0 5px !important;\n",
       "  grid-column: 2;\n",
       "}\n",
       "\n",
       ".xr-array-data,\n",
       ".xr-array-in:checked ~ .xr-array-preview {\n",
       "  display: none;\n",
       "}\n",
       "\n",
       ".xr-array-in:checked ~ .xr-array-data,\n",
       ".xr-array-preview {\n",
       "  display: inline-block;\n",
       "}\n",
       "\n",
       ".xr-dim-list {\n",
       "  display: inline-block !important;\n",
       "  list-style: none;\n",
       "  padding: 0 !important;\n",
       "  margin: 0;\n",
       "}\n",
       "\n",
       ".xr-dim-list li {\n",
       "  display: inline-block;\n",
       "  padding: 0;\n",
       "  margin: 0;\n",
       "}\n",
       "\n",
       ".xr-dim-list:before {\n",
       "  content: '(';\n",
       "}\n",
       "\n",
       ".xr-dim-list:after {\n",
       "  content: ')';\n",
       "}\n",
       "\n",
       ".xr-dim-list li:not(:last-child):after {\n",
       "  content: ',';\n",
       "  padding-right: 5px;\n",
       "}\n",
       "\n",
       ".xr-has-index {\n",
       "  font-weight: bold;\n",
       "}\n",
       "\n",
       ".xr-var-list,\n",
       ".xr-var-item {\n",
       "  display: contents;\n",
       "}\n",
       "\n",
       ".xr-var-item > div,\n",
       ".xr-var-item label,\n",
       ".xr-var-item > .xr-var-name span {\n",
       "  background-color: var(--xr-background-color-row-even);\n",
       "  margin-bottom: 0;\n",
       "}\n",
       "\n",
       ".xr-var-item > .xr-var-name:hover span {\n",
       "  padding-right: 5px;\n",
       "}\n",
       "\n",
       ".xr-var-list > li:nth-child(odd) > div,\n",
       ".xr-var-list > li:nth-child(odd) > label,\n",
       ".xr-var-list > li:nth-child(odd) > .xr-var-name span {\n",
       "  background-color: var(--xr-background-color-row-odd);\n",
       "}\n",
       "\n",
       ".xr-var-name {\n",
       "  grid-column: 1;\n",
       "}\n",
       "\n",
       ".xr-var-dims {\n",
       "  grid-column: 2;\n",
       "}\n",
       "\n",
       ".xr-var-dtype {\n",
       "  grid-column: 3;\n",
       "  text-align: right;\n",
       "  color: var(--xr-font-color2);\n",
       "}\n",
       "\n",
       ".xr-var-preview {\n",
       "  grid-column: 4;\n",
       "}\n",
       "\n",
       ".xr-index-preview {\n",
       "  grid-column: 2 / 5;\n",
       "  color: var(--xr-font-color2);\n",
       "}\n",
       "\n",
       ".xr-var-name,\n",
       ".xr-var-dims,\n",
       ".xr-var-dtype,\n",
       ".xr-preview,\n",
       ".xr-attrs dt {\n",
       "  white-space: nowrap;\n",
       "  overflow: hidden;\n",
       "  text-overflow: ellipsis;\n",
       "  padding-right: 10px;\n",
       "}\n",
       "\n",
       ".xr-var-name:hover,\n",
       ".xr-var-dims:hover,\n",
       ".xr-var-dtype:hover,\n",
       ".xr-attrs dt:hover {\n",
       "  overflow: visible;\n",
       "  width: auto;\n",
       "  z-index: 1;\n",
       "}\n",
       "\n",
       ".xr-var-attrs,\n",
       ".xr-var-data,\n",
       ".xr-index-data {\n",
       "  display: none;\n",
       "  background-color: var(--xr-background-color) !important;\n",
       "  padding-bottom: 5px !important;\n",
       "}\n",
       "\n",
       ".xr-var-attrs-in:checked ~ .xr-var-attrs,\n",
       ".xr-var-data-in:checked ~ .xr-var-data,\n",
       ".xr-index-data-in:checked ~ .xr-index-data {\n",
       "  display: block;\n",
       "}\n",
       "\n",
       ".xr-var-data > table {\n",
       "  float: right;\n",
       "}\n",
       "\n",
       ".xr-var-name span,\n",
       ".xr-var-data,\n",
       ".xr-index-name div,\n",
       ".xr-index-data,\n",
       ".xr-attrs {\n",
       "  padding-left: 25px !important;\n",
       "}\n",
       "\n",
       ".xr-attrs,\n",
       ".xr-var-attrs,\n",
       ".xr-var-data,\n",
       ".xr-index-data {\n",
       "  grid-column: 1 / -1;\n",
       "}\n",
       "\n",
       "dl.xr-attrs {\n",
       "  padding: 0;\n",
       "  margin: 0;\n",
       "  display: grid;\n",
       "  grid-template-columns: 125px auto;\n",
       "}\n",
       "\n",
       ".xr-attrs dt,\n",
       ".xr-attrs dd {\n",
       "  padding: 0;\n",
       "  margin: 0;\n",
       "  float: left;\n",
       "  padding-right: 10px;\n",
       "  width: auto;\n",
       "}\n",
       "\n",
       ".xr-attrs dt {\n",
       "  font-weight: normal;\n",
       "  grid-column: 1;\n",
       "}\n",
       "\n",
       ".xr-attrs dt:hover span {\n",
       "  display: inline-block;\n",
       "  background: var(--xr-background-color);\n",
       "  padding-right: 10px;\n",
       "}\n",
       "\n",
       ".xr-attrs dd {\n",
       "  grid-column: 2;\n",
       "  white-space: pre-wrap;\n",
       "  word-break: break-all;\n",
       "}\n",
       "\n",
       ".xr-icon-database,\n",
       ".xr-icon-file-text2,\n",
       ".xr-no-icon {\n",
       "  display: inline-block;\n",
       "  vertical-align: middle;\n",
       "  width: 1em;\n",
       "  height: 1.5em !important;\n",
       "  stroke-width: 0;\n",
       "  stroke: currentColor;\n",
       "  fill: currentColor;\n",
       "}\n",
       "</style><pre class='xr-text-repr-fallback'>&lt;xarray.DataArray &#x27;tas&#x27; (time: 8768, cell: 3145728)&gt;\n",
       "[27581743104 values with dtype=float32]\n",
       "Coordinates:\n",
       "  * time     (time) datetime64[ns] 2030-01-01 ... 2032-12-31T21:00:00\n",
       "Dimensions without coordinates: cell\n",
       "Attributes:\n",
       "    cell_methods:   time: mean cell: mean\n",
       "    component:      atmo\n",
       "    grid_mapping:   crs\n",
       "    long_name:      temperature in 2m\n",
       "    standard_name:  air_temperature\n",
       "    units:          K\n",
       "    vgrid:          height_2m</pre><div class='xr-wrap' style='display:none'><div class='xr-header'><div class='xr-obj-type'>xarray.DataArray</div><div class='xr-array-name'>'tas'</div><ul class='xr-dim-list'><li><span class='xr-has-index'>time</span>: 8768</li><li><span>cell</span>: 3145728</li></ul></div><ul class='xr-sections'><li class='xr-section-item'><div class='xr-array-wrap'><input id='section-32f6333c-363c-438d-a2fd-f033c836d22c' class='xr-array-in' type='checkbox' checked><label for='section-32f6333c-363c-438d-a2fd-f033c836d22c' title='Show/hide data repr'><svg class='icon xr-icon-database'><use xlink:href='#icon-database'></use></svg></label><div class='xr-array-preview xr-preview'><span>...</span></div><div class='xr-array-data'><pre>[27581743104 values with dtype=float32]</pre></div></div></li><li class='xr-section-item'><input id='section-53f8e62a-d253-4677-9281-4d047ab22522' class='xr-section-summary-in' type='checkbox'  checked><label for='section-53f8e62a-d253-4677-9281-4d047ab22522' class='xr-section-summary' >Coordinates: <span>(1)</span></label><div class='xr-section-inline-details'></div><div class='xr-section-details'><ul class='xr-var-list'><li class='xr-var-item'><div class='xr-var-name'><span class='xr-has-index'>time</span></div><div class='xr-var-dims'>(time)</div><div class='xr-var-dtype'>datetime64[ns]</div><div class='xr-var-preview xr-preview'>2030-01-01 ... 2032-12-31T21:00:00</div><input id='attrs-88314d60-5b2b-41be-9aff-ada30d152a49' class='xr-var-attrs-in' type='checkbox' ><label for='attrs-88314d60-5b2b-41be-9aff-ada30d152a49' title='Show/Hide attributes'><svg class='icon xr-icon-file-text2'><use xlink:href='#icon-file-text2'></use></svg></label><input id='data-66ec667f-4c4d-4130-b2a7-66badf402f4d' class='xr-var-data-in' type='checkbox'><label for='data-66ec667f-4c4d-4130-b2a7-66badf402f4d' title='Show/Hide data repr'><svg class='icon xr-icon-database'><use xlink:href='#icon-database'></use></svg></label><div class='xr-var-attrs'><dl class='xr-attrs'><dt><span>axis :</span></dt><dd>T</dd></dl></div><div class='xr-var-data'><pre>array([&#x27;2030-01-01T00:00:00.000000000&#x27;, &#x27;2030-01-01T03:00:00.000000000&#x27;,\n",
       "       &#x27;2030-01-01T06:00:00.000000000&#x27;, ..., &#x27;2032-12-31T15:00:00.000000000&#x27;,\n",
       "       &#x27;2032-12-31T18:00:00.000000000&#x27;, &#x27;2032-12-31T21:00:00.000000000&#x27;],\n",
       "      dtype=&#x27;datetime64[ns]&#x27;)</pre></div></li></ul></div></li><li class='xr-section-item'><input id='section-3a224a0f-abb2-4ffa-b29e-dd2e433ef4f7' class='xr-section-summary-in' type='checkbox'  ><label for='section-3a224a0f-abb2-4ffa-b29e-dd2e433ef4f7' class='xr-section-summary' >Indexes: <span>(1)</span></label><div class='xr-section-inline-details'></div><div class='xr-section-details'><ul class='xr-var-list'><li class='xr-var-item'><div class='xr-index-name'><div>time</div></div><div class='xr-index-preview'>PandasIndex</div><div></div><input id='index-bb351fa0-7aa8-4848-a87a-bccb83ded7cb' class='xr-index-data-in' type='checkbox'/><label for='index-bb351fa0-7aa8-4848-a87a-bccb83ded7cb' title='Show/Hide index repr'><svg class='icon xr-icon-database'><use xlink:href='#icon-database'></use></svg></label><div class='xr-index-data'><pre>PandasIndex(DatetimeIndex([&#x27;2030-01-01 00:00:00&#x27;, &#x27;2030-01-01 03:00:00&#x27;,\n",
       "               &#x27;2030-01-01 06:00:00&#x27;, &#x27;2030-01-01 09:00:00&#x27;,\n",
       "               &#x27;2030-01-01 12:00:00&#x27;, &#x27;2030-01-01 15:00:00&#x27;,\n",
       "               &#x27;2030-01-01 18:00:00&#x27;, &#x27;2030-01-01 21:00:00&#x27;,\n",
       "               &#x27;2030-01-02 00:00:00&#x27;, &#x27;2030-01-02 03:00:00&#x27;,\n",
       "               ...\n",
       "               &#x27;2032-12-30 18:00:00&#x27;, &#x27;2032-12-30 21:00:00&#x27;,\n",
       "               &#x27;2032-12-31 00:00:00&#x27;, &#x27;2032-12-31 03:00:00&#x27;,\n",
       "               &#x27;2032-12-31 06:00:00&#x27;, &#x27;2032-12-31 09:00:00&#x27;,\n",
       "               &#x27;2032-12-31 12:00:00&#x27;, &#x27;2032-12-31 15:00:00&#x27;,\n",
       "               &#x27;2032-12-31 18:00:00&#x27;, &#x27;2032-12-31 21:00:00&#x27;],\n",
       "              dtype=&#x27;datetime64[ns]&#x27;, name=&#x27;time&#x27;, length=8768, freq=None))</pre></div></li></ul></div></li><li class='xr-section-item'><input id='section-299f52e4-3c34-492e-bceb-410eb3c62032' class='xr-section-summary-in' type='checkbox'  checked><label for='section-299f52e4-3c34-492e-bceb-410eb3c62032' class='xr-section-summary' >Attributes: <span>(7)</span></label><div class='xr-section-inline-details'></div><div class='xr-section-details'><dl class='xr-attrs'><dt><span>cell_methods :</span></dt><dd>time: mean cell: mean</dd><dt><span>component :</span></dt><dd>atmo</dd><dt><span>grid_mapping :</span></dt><dd>crs</dd><dt><span>long_name :</span></dt><dd>temperature in 2m</dd><dt><span>standard_name :</span></dt><dd>air_temperature</dd><dt><span>units :</span></dt><dd>K</dd><dt><span>vgrid :</span></dt><dd>height_2m</dd></dl></div></li></ul></div></div>"
      ],
      "text/plain": [
       "<xarray.DataArray 'tas' (time: 8768, cell: 3145728)>\n",
       "[27581743104 values with dtype=float32]\n",
       "Coordinates:\n",
       "  * time     (time) datetime64[ns] 2030-01-01 ... 2032-12-31T21:00:00\n",
       "Dimensions without coordinates: cell\n",
       "Attributes:\n",
       "    cell_methods:   time: mean cell: mean\n",
       "    component:      atmo\n",
       "    grid_mapping:   crs\n",
       "    long_name:      temperature in 2m\n",
       "    standard_name:  air_temperature\n",
       "    units:          K\n",
       "    vgrid:          height_2m"
      ]
     },
     "execution_count": 13,
     "metadata": {},
     "output_type": "execute_result"
    }
   ],
   "source": [
    "data_icon['tas'].sel(time=slice('2030', '2032'))"
   ]
  },
  {
   "cell_type": "code",
   "execution_count": 14,
   "id": "1605ce98-215e-4144-b9f2-badaf0c82059",
   "metadata": {},
   "outputs": [
    {
     "name": "stdout",
     "output_type": "stream",
     "text": [
      "CPU times: user 275 ms, sys: 252 ms, total: 527 ms\n",
      "Wall time: 1.9 s\n"
     ]
    }
   ],
   "source": [
    "%%time\n",
    "point_data_icon = data_icon['tas'].sel(time=slice('2030', '2032'))[:,pix].compute()"
   ]
  },
  {
   "cell_type": "code",
   "execution_count": 15,
   "id": "ab51cd22-22a1-41e6-b632-d49dd9e56fb6",
   "metadata": {},
   "outputs": [
    {
     "data": {
      "text/plain": [
       "[<matplotlib.lines.Line2D at 0x7ffa5c2b4280>]"
      ]
     },
     "execution_count": 15,
     "metadata": {},
     "output_type": "execute_result"
    },
    {
     "data": {
      "image/png": "[encoded data removed]",
      "text/plain": [
       "<Figure size 640x480 with 1 Axes>"
      ]
     },
     "metadata": {},
     "output_type": "display_data"
    }
   ],
   "source": [
    "point_data_icon.plot()"
   ]
  },
  {
   "cell_type": "markdown",
   "id": "01eafc02-5e0d-426c-897c-bf7c458106b4",
   "metadata": {},
   "source": [
    "## 30 random points"
   ]
  },
  {
   "cell_type": "code",
   "execution_count": 16,
   "id": "932007b0-539f-4d7c-bcb0-d5f0fcaaa5e3",
   "metadata": {},
   "outputs": [
    {
     "name": "stdout",
     "output_type": "stream",
     "text": [
      "[1824, 409, 4506, 4012, 3657, 2286, 1679, 8935, 1424, 9674, 6912, 520, 488, 1535, 3582, 3811, 8279, 9863, 434, 9195, 3257, 8928, 6873, 3611, 7359, 9654, 4557, 106, 2615, 6924]\n"
     ]
    }
   ],
   "source": [
    "import random\n",
    "\n",
    "random.seed(42)  # Set a seed for reproducibility\n",
    "random_numbers = [random.randint(0, 10000) for _ in range(30)]\n",
    "\n",
    "print(random_numbers)"
   ]
  },
  {
   "cell_type": "markdown",
   "id": "e7ae0a97-ab50-49b2-b288-66e9bf9b425e",
   "metadata": {},
   "source": [
    "Only surface here to compare with earthkit"
   ]
  },
  {
   "cell_type": "code",
   "execution_count": 17,
   "id": "7a3dd60a-4fb6-470c-ba06-8a625c871a79",
   "metadata": {},
   "outputs": [
    {
     "name": "stdout",
     "output_type": "stream",
     "text": [
      "CPU times: user 31.5 s, sys: 33.3 s, total: 1min 4s\n",
      "Wall time: 5.25 s\n"
     ]
    }
   ],
   "source": [
    "%%time\n",
    "transect_fesom = data_ifs_oce_3d['avg_thetao'].sel(time='2030')[:,0,random_numbers].compute()"
   ]
  },
  {
   "cell_type": "code",
   "execution_count": 18,
   "id": "9f8a43fd-5faf-40e3-b26e-dc438ec3eca9",
   "metadata": {},
   "outputs": [
    {
     "name": "stdout",
     "output_type": "stream",
     "text": [
      "CPU times: user 246 ms, sys: 108 ms, total: 355 ms\n",
      "Wall time: 776 ms\n"
     ]
    }
   ],
   "source": [
    "%%time\n",
    "transect_icon = data_icon_oce['to'].sel(time='2030')[:,0,random_numbers].compute()"
   ]
  },
  {
   "cell_type": "markdown",
   "id": "2fe7d005-ea4a-4782-96ed-8e743daf7696",
   "metadata": {},
   "source": [
    "## Small polygon"
   ]
  },
  {
   "cell_type": "code",
   "execution_count": 19,
   "id": "f1f3c3b7-2066-4b11-8ac7-07635027ed36",
   "metadata": {},
   "outputs": [],
   "source": [
    "# 5° × 5° polygon over central Europe\n",
    "# Split into separate longitude and latitude lists\n",
    "\n",
    "# Extract coordinates\n",
    "lats = [45.0, 50.0, 50.0, 45.0]  # Latitude values (phi)\n",
    "lons = [0.0, 0.0, 5.0, 5.0]       # Longitude values (theta)\n",
    "\n",
    "# Example usage with healpy (hp)\n",
    "vec = hp.ang2vec(theta=lons, phi=lats, lonlat=True)"
   ]
  },
  {
   "cell_type": "code",
   "execution_count": 20,
   "id": "6fcc8bd3-5c59-4ad0-b2b8-b40c8bfeec5a",
   "metadata": {},
   "outputs": [],
   "source": [
    "ipix_poly = hp.query_polygon(hp.npix2nside(len(data_example)), vertices=vec, inclusive=False, nest=True)"
   ]
  },
  {
   "cell_type": "code",
   "execution_count": 21,
   "id": "930cc74a-550d-4f44-bf58-d219df456146",
   "metadata": {},
   "outputs": [
    {
     "name": "stdout",
     "output_type": "stream",
     "text": [
      "CPU times: user 11min 9s, sys: 1min 40s, total: 12min 50s\n",
      "Wall time: 35.8 s\n"
     ]
    }
   ],
   "source": [
    "%%time\n",
    "poly_ifs = data_ifs['2t'].sel(time='2030')[:,ipix_poly].compute()"
   ]
  },
  {
   "cell_type": "code",
   "execution_count": 22,
   "id": "a9794c5d-4461-40de-83d1-e7d7c4dc01d6",
   "metadata": {},
   "outputs": [
    {
     "name": "stdout",
     "output_type": "stream",
     "text": [
      "CPU times: user 450 ms, sys: 223 ms, total: 673 ms\n",
      "Wall time: 1.71 s\n"
     ]
    }
   ],
   "source": [
    "%%time\n",
    "poly_icon = data_icon['tas'].sel(time=slice('2030', '2032'))[:,ipix_poly].compute()"
   ]
  },
  {
   "cell_type": "markdown",
   "id": "b3ef5ef3-a8af-4a8a-90b3-1bc4eb85e9a5",
   "metadata": {},
   "source": [
    "## SSH variability"
   ]
  },
  {
   "cell_type": "code",
   "execution_count": 8,
   "id": "1f33cb7c-3a62-4716-936d-4d581a7587c7",
   "metadata": {
    "scrolled": true
   },
   "outputs": [
    {
     "name": "stderr",
     "output_type": "stream",
     "text": [
      "/fastdata/bm1235/python_environments/hamburg-hackathon/lib/python3.10/site-packages/dask/array/numpy_compat.py:53: RuntimeWarning: invalid value encountered in true_divide\n",
      "  x = np.divide(x1, x2, out)\n"
     ]
    },
    {
     "name": "stdout",
     "output_type": "stream",
     "text": [
      "CPU times: user 51min 18s, sys: 2h 12min 30s, total: 3h 3min 48s\n",
      "Wall time: 6min 43s\n"
     ]
    }
   ],
   "source": [
    "%%time\n",
    "\n",
    "ssh = data_ifs_oce['avg_zos'].std(dim='time').compute()"
   ]
  },
  {
   "cell_type": "code",
   "execution_count": null,
   "id": "b67bf53e-41dd-4abd-8bf9-f3cc2bd76582",
   "metadata": {},
   "outputs": [],
   "source": [
    "%%time\n",
    "ssh_icon = data_icon_oce['zos'].std(dim='time').compute()"
   ]
  },
  {
   "cell_type": "code",
   "execution_count": null,
   "id": "2011690b-09cb-4c9b-80af-0a82e5f141f0",
   "metadata": {},
   "outputs": [],
   "source": []
  },
  {
   "cell_type": "markdown",
   "id": "2a1f114f-f54d-4cff-b832-8209ac010994",
   "metadata": {},
   "source": [
    "## Range (consecutive points)"
   ]
  },
  {
   "cell_type": "markdown",
   "id": "40741deb-589d-4765-a76c-d6c4ac4b4acd",
   "metadata": {},
   "source": [
    "Let's take some area, for simplicity just represented by first 100K points"
   ]
  },
  {
   "cell_type": "code",
   "execution_count": 23,
   "id": "5a5694b3-5865-4cd1-be76-5ed9114acaad",
   "metadata": {},
   "outputs": [
    {
     "name": "stdout",
     "output_type": "stream",
     "text": [
      "CPU times: user 10min 50s, sys: 1min 49s, total: 12min 40s\n",
      "Wall time: 43.5 s\n"
     ]
    }
   ],
   "source": [
    "%%time\n",
    "area_data = data_ifs['2t'].sel(time='2030')[:,list(range(100000))].mean(dim='value').compute()"
   ]
  },
  {
   "cell_type": "code",
   "execution_count": 24,
   "id": "08c2c853-4a75-47f3-9537-d34c075a6d09",
   "metadata": {},
   "outputs": [
    {
     "data": {
      "text/plain": [
       "[<matplotlib.lines.Line2D at 0x7ff99c7da800>]"
      ]
     },
     "execution_count": 24,
     "metadata": {},
     "output_type": "execute_result"
    },
    {
     "data": {
      "image/png": "[encoded data removed]",
      "text/plain": [
       "<Figure size 640x480 with 1 Axes>"
      ]
     },
     "metadata": {},
     "output_type": "display_data"
    }
   ],
   "source": [
    "area_data.plot()"
   ]
  },
  {
   "cell_type": "markdown",
   "id": "988f7e33-ded7-4f82-ba16-fc30b1ea67ac",
   "metadata": {},
   "source": [
    "Same for ICON"
   ]
  },
  {
   "cell_type": "code",
   "execution_count": 25,
   "id": "4c3c57f2-f5bc-4fec-9d59-44f375fd00b6",
   "metadata": {},
   "outputs": [
    {
     "name": "stdout",
     "output_type": "stream",
     "text": [
      "CPU times: user 8.25 s, sys: 4.26 s, total: 12.5 s\n",
      "Wall time: 27.4 s\n"
     ]
    }
   ],
   "source": [
    "%%time\n",
    "area_data_icon = data_icon['tas'].sel(time=slice('2030', '2032'))[:,list(range(100000))].mean(dim='cell').compute()"
   ]
  },
  {
   "cell_type": "code",
   "execution_count": 26,
   "id": "ae830640-e1a2-498d-8437-9020d9aed117",
   "metadata": {},
   "outputs": [
    {
     "data": {
      "text/plain": [
       "[<matplotlib.lines.Line2D at 0x7ffa581da380>]"
      ]
     },
     "execution_count": 26,
     "metadata": {},
     "output_type": "execute_result"
    },
    {
     "data": {
      "image/png": "[encoded data removed]",
      "text/plain": [
       "<Figure size 640x480 with 1 Axes>"
      ]
     },
     "metadata": {},
     "output_type": "display_data"
    }
   ],
   "source": [
    "area_data_icon.plot()"
   ]
  },
  {
   "cell_type": "markdown",
   "id": "4b51dd2c-4703-46cc-8993-c4d25d8f53d0",
   "metadata": {},
   "source": [
    "Now let's take some ocean data"
   ]
  },
  {
   "cell_type": "markdown",
   "id": "101420c5-ce95-4abc-9b8a-fd8c83b58874",
   "metadata": {},
   "source": [
    "## 3D ocean, hovmouller diagram"
   ]
  },
  {
   "cell_type": "markdown",
   "id": "2b0bdf23-1444-4a7c-8d5d-0bc910f84d62",
   "metadata": {},
   "source": [
    "Let's try 3D ocean (sorry, I am oncean guy :))"
   ]
  },
  {
   "cell_type": "markdown",
   "id": "45ac39d7-0d50-44be-8e95-3dd8531d35b9",
   "metadata": {},
   "source": [
    "We will study mixed layer behaviour. We will select point in the middle of Atlantic, and will try to plot hovmouller diagram of first 10 levels for every time step."
   ]
  },
  {
   "cell_type": "code",
   "execution_count": 27,
   "id": "365b8c68-1fe9-4bba-a9a4-a07e1899b81f",
   "metadata": {},
   "outputs": [],
   "source": [
    "pix = hp.ang2pix(\n",
    "        hp.npix2nside(len(data_example)), theta=-45, phi=30, nest=True, lonlat=True\n",
    "    )"
   ]
  },
  {
   "cell_type": "code",
   "execution_count": 28,
   "id": "8f346b4c-bad3-4098-93e9-06f7b4b41437",
   "metadata": {},
   "outputs": [
    {
     "data": {
      "text/plain": [
       "842410"
      ]
     },
     "execution_count": 28,
     "metadata": {},
     "output_type": "execute_result"
    }
   ],
   "source": [
    "pix"
   ]
  },
  {
   "cell_type": "markdown",
   "id": "8e3cb8a1-d6c1-485d-b6ff-689b301d83b6",
   "metadata": {},
   "source": [
    "We only going to compute for 365 values"
   ]
  },
  {
   "cell_type": "code",
   "execution_count": 29,
   "id": "fda4e03b-2a95-4f83-9f76-9d268996b01c",
   "metadata": {},
   "outputs": [
    {
     "name": "stdout",
     "output_type": "stream",
     "text": [
      "CPU times: user 4min 36s, sys: 1min 31s, total: 6min 8s\n",
      "Wall time: 23.9 s\n"
     ]
    }
   ],
   "source": [
    "%%time\n",
    "hovm = data_ifs_oce_3d['avg_thetao'].sel(time='2030')[:,0:10,pix].compute()"
   ]
  },
  {
   "cell_type": "code",
   "execution_count": 30,
   "id": "3843ccc0-1a47-4a93-9b87-661e035be9a0",
   "metadata": {},
   "outputs": [
    {
     "data": {
      "text/plain": [
       "<matplotlib.collections.QuadMesh at 0x7ff9a44af5e0>"
      ]
     },
     "execution_count": 30,
     "metadata": {},
     "output_type": "execute_result"
    },
    {
     "data": {
      "image/png": "[encoded data removed]",
      "text/plain": [
       "<Figure size 640x480 with 2 Axes>"
      ]
     },
     "metadata": {},
     "output_type": "display_data"
    }
   ],
   "source": [
    "hovm.plot()"
   ]
  },
  {
   "cell_type": "code",
   "execution_count": 31,
   "id": "b6630e4d-13f1-4392-9ea3-f8a7d3ae0d6a",
   "metadata": {},
   "outputs": [
    {
     "name": "stdout",
     "output_type": "stream",
     "text": [
      "CPU times: user 745 ms, sys: 843 ms, total: 1.59 s\n",
      "Wall time: 6.75 s\n"
     ]
    }
   ],
   "source": [
    "%%time\n",
    "hovm_icon = data_icon_oce['to'].sel(time='2030')[:,0:10,pix].compute()"
   ]
  },
  {
   "cell_type": "code",
   "execution_count": 32,
   "id": "69f8c031-76bd-4bd0-841e-85f30e1eeb2e",
   "metadata": {},
   "outputs": [
    {
     "data": {
      "text/plain": [
       "<matplotlib.collections.QuadMesh at 0x7ffa2412dc00>"
      ]
     },
     "execution_count": 32,
     "metadata": {},
     "output_type": "execute_result"
    },
    {
     "data": {
      "image/png": "[encoded data removed]",
      "text/plain": [
       "<Figure size 640x480 with 2 Axes>"
      ]
     },
     "metadata": {},
     "output_type": "display_data"
    }
   ],
   "source": [
    "hovm_icon.plot()"
   ]
  },
  {
   "cell_type": "code",
   "execution_count": null,
   "id": "401730b1-50c2-44fb-b917-13066765128e",
   "metadata": {},
   "outputs": [],
   "source": []
  },
  {
   "cell_type": "markdown",
   "id": "c537764e-ad6b-475c-b620-832f20305ce1",
   "metadata": {},
   "source": [
    "## A bit more random data access"
   ]
  },
  {
   "cell_type": "markdown",
   "id": "f3f4ef66-28c0-4004-a830-cfad1300331a",
   "metadata": {},
   "source": [
    "Random data access, emulating transect or just bunch of vertical profiles across the ocean"
   ]
  },
  {
   "cell_type": "code",
   "execution_count": 40,
   "id": "0e59e0d4-7bac-4ef9-ad5d-fff59468708e",
   "metadata": {},
   "outputs": [
    {
     "name": "stdout",
     "output_type": "stream",
     "text": [
      "[1824, 409, 4506, 4012, 3657, 2286, 1679, 8935, 1424, 9674, 6912, 520, 488, 1535, 3582, 3811, 8279, 9863, 434, 9195, 3257, 8928, 6873, 3611, 7359, 9654, 4557, 106, 2615, 6924]\n"
     ]
    }
   ],
   "source": [
    "import random\n",
    "\n",
    "random.seed(42)  # Set a seed for reproducibility\n",
    "random_numbers = [random.randint(0, 10000) for _ in range(30)]\n",
    "\n",
    "print(random_numbers)"
   ]
  },
  {
   "cell_type": "markdown",
   "id": "e5bf2b26-6d0c-4e20-999e-88f0949db905",
   "metadata": {},
   "source": [
    "We increase the number of vertical levels to 30"
   ]
  },
  {
   "cell_type": "code",
   "execution_count": 43,
   "id": "7d4a0c2e-6f7d-4d97-a68f-1e6da1615415",
   "metadata": {},
   "outputs": [
    {
     "name": "stdout",
     "output_type": "stream",
     "text": [
      "CPU times: user 47.1 s, sys: 3.46 s, total: 50.5 s\n",
      "Wall time: 1min 22s\n"
     ]
    }
   ],
   "source": [
    "%%time\n",
    "transect = ocean_3D['avg_thetao'].sel(time='2030')[:,0:30,random_numbers].compute()"
   ]
  },
  {
   "cell_type": "code",
   "execution_count": 44,
   "id": "597fad3a-3e0c-42f4-b0b3-a0b20248efc1",
   "metadata": {},
   "outputs": [
    {
     "name": "stdout",
     "output_type": "stream",
     "text": [
      "CPU times: user 426 ms, sys: 52.3 ms, total: 478 ms\n",
      "Wall time: 936 ms\n"
     ]
    }
   ],
   "source": [
    "%%time\n",
    "transect_icon = icon_ocean['to'].sel(time='2030')[:,0:30,random_numbers].compute()"
   ]
  },
  {
   "cell_type": "markdown",
   "id": "bdf08894-030c-4226-b707-c2dfcbf99737",
   "metadata": {},
   "source": [
    "## Ocean mean speed"
   ]
  },
  {
   "cell_type": "code",
   "execution_count": 6,
   "id": "9705c093-14b3-498c-ac3e-413802b7cb4e",
   "metadata": {},
   "outputs": [],
   "source": [
    "import numpy as np"
   ]
  },
  {
   "cell_type": "code",
   "execution_count": 12,
   "id": "0bbdd62e-bdc7-4686-8f7e-957aa701c0ff",
   "metadata": {},
   "outputs": [
    {
     "name": "stderr",
     "output_type": "stream",
     "text": [
      "/fastdata/bm1235/python_environments/hamburg-hackathon/lib/python3.10/site-packages/distributed/client.py:3169: UserWarning: Sending large graph of size 55.06 MiB.\n",
      "This may cause some slowdown.\n",
      "Consider scattering data ahead of time and using futures.\n",
      "  warnings.warn(\n",
      "2025-02-11 21:27:03,224 - distributed.worker.memory - WARNING - gc.collect() took 1.064s. This is usually a sign that some tasks handle too many Python objects at the same time. Rechunking the work into smaller tasks might help.\n"
     ]
    },
    {
     "name": "stdout",
     "output_type": "stream",
     "text": [
      "CPU times: user 3min 2s, sys: 16.3 s, total: 3min 19s\n",
      "Wall time: 6min 12s\n"
     ]
    }
   ],
   "source": [
    "%%time\n",
    "speed_mean = np.hypot(ocean_3D['avg_uoe'].sel(time='2030')[:,:30,:], ocean_3D['avg_von'].sel(time='2030')[:,:30,:]).mean(dim='time').compute()"
   ]
  },
  {
   "cell_type": "code",
   "execution_count": 11,
   "id": "c8a6c559-c592-4d21-9df0-36950f5ed803",
   "metadata": {},
   "outputs": [
    {
     "name": "stdout",
     "output_type": "stream",
     "text": [
      "CPU times: user 32.1 s, sys: 2.97 s, total: 35.1 s\n",
      "Wall time: 1min 32s\n"
     ]
    }
   ],
   "source": [
    "%%time\n",
    "speed_mean_icon = np.hypot(icon_ocean['u'].sel(time='2030')[:,:30,:], icon_ocean['v'].sel(time='2030')[:,:30,:]).mean(dim='time').compute()"
   ]
  },
  {
   "cell_type": "code",
   "execution_count": null,
   "id": "fb9f74c3-c464-4711-bb98-211d96aacafd",
   "metadata": {},
   "outputs": [],
   "source": []
  },
  {
   "cell_type": "code",
   "execution_count": null,
   "id": "d09dbaa9-4c5e-44d2-95aa-3b1c4857d842",
   "metadata": {},
   "outputs": [],
   "source": []
  }
 ],
 "metadata": {
  "kernelspec": {
   "display_name": "hhackathon",
   "language": "python",
   "name": "hhackathon"
  },
  "language_info": {
   "codemirror_mode": {
    "name": "ipython",
    "version": 3
   },
   "file_extension": ".py",
   "mimetype": "text/x-python",
   "name": "python",
   "nbconvert_exporter": "python",
   "pygments_lexer": "ipython3",
   "version": "3.10.13"
  }
 },
 "nbformat": 4,
 "nbformat_minor": 5
}
